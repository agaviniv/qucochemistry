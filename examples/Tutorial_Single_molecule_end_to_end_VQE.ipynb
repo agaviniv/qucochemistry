{
 "cells": [
  {
   "cell_type": "markdown",
   "metadata": {},
   "source": [
    "# Tutorial: end-to-end VQE molecular ground state energy simulation on the Rigetti Forest platform\n",
    "In this python notebook tutorial, we present a basic introduction to using the Qu & Co VQE app for simulating the groundstate energy of an arbitrary molecule, on the Rigetti Forest quantum computing platform. In this tutorial, we show how to load a molecular problem Hamiltonian, how to configure the VQE instance and visualize the results from the calculations."
   ]
  },
  {
   "cell_type": "markdown",
   "metadata": {},
   "source": [
    "## Part 1: loading the chemistry problem\n",
    "First, we must load the problem Hamiltonian of which we wish to find the ground state energy. The VQE app in principle can handle an arbitrary Hamiltonian, but for practical reasons we concentrate here on loading a molecular Hamiltonian via the opensource OpenFermion package. \n",
    "The MolecularData() object can be produced using different classical Self-Consistent Field packages, like PySCF, Psi4 etc. In this tutorial, we assume the user has generated a molecular data file in the .hdf5 format which he loads. We also show how to do this for the example case of PySCF, using OpenFermion-PySCF, in another tutorial. In principle you can therefore do end-to-end VQE if you install PySCF, OpenFermion-PySCF, OpenFermion and qucochemistry in the same environment!"
   ]
  },
  {
   "cell_type": "code",
   "execution_count": 1,
   "metadata": {},
   "outputs": [
    {
     "data": {
      "application/javascript": [
       "IPython.notebook.set_autosave_interval(30000)"
      ]
     },
     "metadata": {},
     "output_type": "display_data"
    },
    {
     "name": "stdout",
     "output_type": "stream",
     "text": [
      "Autosaving every 30 seconds\n"
     ]
    }
   ],
   "source": [
    "%matplotlib notebook\n",
    "\n",
    "import matplotlib.pyplot as plt\n",
    "\n",
    "%autosave 30"
   ]
  },
  {
   "cell_type": "code",
   "execution_count": 2,
   "metadata": {},
   "outputs": [],
   "source": [
    "from openfermion import MolecularData"
   ]
  },
  {
   "cell_type": "code",
   "execution_count": 3,
   "metadata": {},
   "outputs": [
    {
     "name": "stdout",
     "output_type": "stream",
     "text": [
      "Loaded molecule:  H2_sto-3g_singlet_pyscf\n",
      "HF energy      : -1.1166843870853396\n",
      "CCSD energy    : -1.137270340640917\n",
      "FCI energy     : -1.1372701746609026\n"
     ]
    }
   ],
   "source": [
    "#filename = 'molecules/LiH_pyscf_1595.hdf5'\n",
    "filename = 'molecules/H2_pyscf_equi.hdf5'\n",
    "molecule = MolecularData(filename=filename)\n",
    "print('Loaded molecule: ', molecule.name)\n",
    "print('HF energy      : ' + str(molecule.hf_energy))\n",
    "print('CCSD energy    : ' + str(molecule.ccsd_energy))\n",
    "print('FCI energy     : ' + str(molecule.fci_energy))"
   ]
  },
  {
   "cell_type": "markdown",
   "metadata": {},
   "source": [
    "We in this example load the hydrogen molecule at equilibrium bond distance, and print the (stored) HF, CCSD and FCI energies found with classical SCF methods.\n",
    "## Part 2: loading the VQE driver\n",
    "Next, we load a new VQEexperiment() based on this molecule. We first show the default case with all options to their default values. For that, there is no need to set up a QVM yet, and it safely runs from within the comfort of your python environment."
   ]
  },
  {
   "cell_type": "code",
   "execution_count": 4,
   "metadata": {},
   "outputs": [],
   "source": [
    "from qucochemistry.vqe import VQEexperiment\n",
    "vqe = VQEexperiment(molecule=molecule)"
   ]
  },
  {
   "cell_type": "markdown",
   "metadata": {},
   "source": [
    "Next we query the qubit requirement and the exact groundstate energy. This energy is brute-force calculated from diagonalizing the Fermionic Hamiltonian which was loaded from the MolecularData object. In general this is computationally intractable but we can do this for a small molecule with limited number of basis functions. We can check that the result indeed is equal to machine precision with the FCI energy, as expected."
   ]
  },
  {
   "cell_type": "code",
   "execution_count": 5,
   "metadata": {},
   "outputs": [
    {
     "name": "stdout",
     "output_type": "stream",
     "text": [
      "Number of qubits required to map the simulation problem: N =  4\n",
      "Exact diagonalization of molecular Hamiltonian yields  : E =  -1.1372701746609015\n"
     ]
    }
   ],
   "source": [
    "print('Number of qubits required to map the simulation problem: N = ', vqe.get_qubit_req())\n",
    "exact_gs_E=vqe.get_exact_gs()\n",
    "print('Exact diagonalization of molecular Hamiltonian yields  : E = ', exact_gs_E)"
   ]
  },
  {
   "cell_type": "markdown",
   "metadata": {},
   "source": [
    "Now that the VQE has been set up, we can simulate the VQE circuit output and evaluate the Hamiltonian estimation over this output. By default, the VQE has applied the following settings (for all details, please refer to the documentation):\n",
    " - circuit ansatz: Unitary Coupled Cluster method with Single and Double excitations (UCCSD). This is the unitary variant of the coupled cluster (CCSD) method which is typically included in the MolecularData() file. \n",
    " - simulation method: Numpy - wavefunction simulator. This means the quantum circuit is simulated on a classical computer (the machine this notebook runs on). The full wavefunction is simulated and the algorithm has access it directly, which means the Hamiltonian operator estimation process is exact (no sampling). This is the most simple method for quickly testing the VQE; to run it on a real device, more settings need to be adjusted. We will show how to do this later in this tutorial.\n",
    "\n",
    "If we now call the objective_function() method, the circuit is evaluted for a set of initial angles which are taken from the classical CCSD amplitudes in the MolecularData() file. This is a good first estimate of a circuit which prepares a state close to the groundstate. "
   ]
  },
  {
   "cell_type": "code",
   "execution_count": 6,
   "metadata": {},
   "outputs": [
    {
     "name": "stdout",
     "output_type": "stream",
     "text": [
      "VQE objective function energy estimation: E =  -1.1372697939185201\n"
     ]
    }
   ],
   "source": [
    "print('VQE objective function energy estimation: E = ', vqe.objective_function())"
   ]
  },
  {
   "cell_type": "markdown",
   "metadata": {},
   "source": [
    "We find an energy estimate which is better than the HF energy, but still worse than FCI and even CCSD. This is because the circuit angles have not yet been optimized. In the Variational Quantum Eigensolver (VQE) method, we optimize with a classical optmization algorithm over the Hamiltonian estimation energy, where the evaluation of the energy functional is performed on a quantum computer.\n",
    "By default, the VQE is configured to run a classical optimizer with:\n",
    "- optimization algorithm: BFGS (add optional keyword 'optimizer=Powell' etc to choose from the following list of available algorithms: {'Nelder-Mead', 'Powell', 'CG', 'BFGS', 'Newton-CG', 'L-BFGS-B ', 'TNC', 'COBYLA','SLSQP', 'trust-constr', 'dogleg', 'trust-ncg', 'trust-exact', 'trust-krylov'})\n",
    "- max iterations: infinite (will not stop unless default convergence criteria are met) (set vqe.maxiter to any int. In this example, we set it to 3, but one can also define other convergence criteria manually.) \n",
    "- verbose_output: false (will supress optimizer debug print output). We in this example set this to True below:\n",
    "\n",
    "In the example case where we loaded the LiH 12-qubit experiment, on a laptop this procedure will typically take a few minutes."
   ]
  },
  {
   "cell_type": "markdown",
   "metadata": {},
   "source": [
    "## Part 3: Running the VQE and analyzing results"
   ]
  },
  {
   "cell_type": "code",
   "execution_count": 7,
   "metadata": {},
   "outputs": [
    {
     "name": "stdout",
     "output_type": "stream",
     "text": [
      "Setting starting circuit parameters to intial amps:  [-1.9799336839741053e-16, -0.05677668069713777]\n",
      "black-box function call #1\n",
      "Energy estimate is now:  -1.1372697939185201\n",
      "at angles:                [-1.9799336839741053e-16, -0.05677668069713777]\n",
      "and this took 0.035 seconds to evaluate\n",
      "black-box function call #2\n",
      "Energy estimate is now:  -1.1372697939185201\n",
      "at angles:                [1.4901160995854287e-08, -0.05677668069713777]\n",
      "and this took 0.031 seconds to evaluate\n",
      "black-box function call #3\n",
      "Energy estimate is now:  -1.1372697939652892\n",
      "at angles:                [-1.9799336839741053e-16, -0.05677666579597657]\n",
      "and this took 0.029 seconds to evaluate\n",
      "black-box function call #4\n",
      "Energy estimate is now:  -1.1372697939185201\n",
      "at angles:                [-1.9799336839741053e-16, -0.05677668069713777]\n",
      "and this took 0.025 seconds to evaluate\n",
      "black-box function call #5\n",
      "Energy estimate is now:  -1.137215925685621\n",
      "at angles:                [-1.9799336839741053e-16, -0.05363806401603883]\n",
      "and this took 0.021 seconds to evaluate\n",
      "black-box function call #6\n",
      "Energy estimate is now:  -1.137215925685621\n",
      "at angles:                [-1.9799336839741053e-16, -0.05363806401603883]\n",
      "and this took 0.030 seconds to evaluate\n",
      "black-box function call #7\n",
      "Energy estimate is now:  -1.137215925685621\n",
      "at angles:                [1.4901160995854287e-08, -0.05363806401603883]\n",
      "and this took 0.030 seconds to evaluate\n",
      "black-box function call #8\n",
      "Energy estimate is now:  -1.1372159251273566\n",
      "at angles:                [-1.9799336839741053e-16, -0.053638049114877635]\n",
      "and this took 0.023 seconds to evaluate\n",
      "black-box function call #9\n",
      "Energy estimate is now:  -1.1372701746609009\n",
      "at angles:                [-1.9799336839741053e-16, -0.05653406967974816]\n",
      "and this took 0.022 seconds to evaluate\n",
      "black-box function call #10\n",
      "Energy estimate is now:  -1.1372701746609009\n",
      "at angles:                [-1.9799336839741053e-16, -0.05653406967974816]\n",
      "and this took 0.025 seconds to evaluate\n",
      "black-box function call #11\n",
      "Energy estimate is now:  -1.1372701746609009\n",
      "at angles:                [1.4901160995854287e-08, -0.05653406967974816]\n",
      "and this took 0.027 seconds to evaluate\n",
      "black-box function call #12\n",
      "Energy estimate is now:  -1.1372701746608989\n",
      "at angles:                [-1.9799336839741053e-16, -0.056534054778586966]\n",
      "and this took 0.028 seconds to evaluate\n",
      "Optimization terminated successfully.\n",
      "         Current function value: -1.137270\n",
      "         Iterations: 1\n",
      "         Function evaluations: 12\n",
      "         Gradient evaluations: 3\n",
      "VQE optimization took 0.331 seconds to evaluate\n"
     ]
    }
   ],
   "source": [
    "# run VQE algorithm\n",
    "vqe.verbose_output(True)\n",
    "vqe.start_vqe(maxiter=4)\n",
    "results=vqe.get_results()"
   ]
  },
  {
   "cell_type": "markdown",
   "metadata": {},
   "source": [
    "The results are now stored and we can analyze them"
   ]
  },
  {
   "cell_type": "code",
   "execution_count": 8,
   "metadata": {},
   "outputs": [
    {
     "name": "stdout",
     "output_type": "stream",
     "text": [
      "\n",
      "The optimized UCCSD circuit ansatz energy is:               E = -1.1372701746609009 Hartree, at angles [-1.97993368e-16 -5.65340697e-02]\n",
      "Energy error with exact GS, in units of chemical accuracy: dE = 4.163336342344337e-13\n"
     ]
    }
   ],
   "source": [
    "print('')\n",
    "print('The optimized UCCSD circuit ansatz energy is:               E = '  + str(results.fun) + ' Hartree, at angles ' + str(results.x))\n",
    "print('Energy error with exact GS, in units of chemical accuracy: dE = ' + str(abs(results.fun-exact_gs_E)/0.0016))\n"
   ]
  },
  {
   "cell_type": "markdown",
   "metadata": {},
   "source": [
    "Now, with the default values we initialized the <code class=\"markup--code markup--p-code\">VQEexperiment()</code>   with, the Hamiltonian energy estimation is performed with full knowledge of the quantum wavefunction; however, in experiments we only have access to measurements of the qubits yielding 0 and 1. To simulate this, we will run the VQE on a QVM, a Quantum Virtual Machine.\n",
    "On your local machine, install the Rigetti Forest SDK (detailed instructions [here](http://docs.rigetti.com/en/stable/start.html)) and run <code class=\"markup--code markup--p-code\">QVM -S</code> and  <code class=\"markup--code markup--p-code\"> quilc -R</code> in your terminal.\n",
    "If you want to run your code on the QCS, please refer to [Rigetti's qcs page](https://www.rigetti.com/qcs/docs/intro-to-qcs).\n",
    "\n",
    "As the QVM is more computationally intensive to run, we pick a small molecule like hydrogen to simulate in this example. With 4 spin-orbitals in the minimal STO-3G basis, we should first create a 4-qubit virtual quantum computer object and find a linear chain qubit lattice to run our UCCSD algorithm on (see [lattices](https://qcs.rigetti.com/lattices) for info on the lattice qubit ID's):"
   ]
  },
  {
   "cell_type": "code",
   "execution_count": 9,
   "metadata": {},
   "outputs": [],
   "source": [
    "filename = 'molecules/H2_pyscf_equi.hdf5'\n",
    "molecule = MolecularData(filename=filename)\n",
    "\n",
    "from pyquil.api import get_qc\n",
    "qc = get_qc('Aspen-4-4Q-A-qvm')\n",
    "cq = [7,0,1,2] # lattice qubit ID\"s in a serial string order"
   ]
  },
  {
   "cell_type": "markdown",
   "metadata": {},
   "source": [
    "If you wish to run this program on the corresponding real QPU lattice, simply omit <code class=\"markup--code markup--p-code\">-qvm </code> from the string <code class=\"markup--code markup--p-code\">'Aspen-4-4Q-A-qvm'</code> and make sure to book a time in the scheduler.\n",
    "Next we configure a new vqe solver. We load the quantum computer object with <code class=\"markup--code markup--p-code\">qc=qc</code>, adjust custom qubits with <code class=\"markup--code markup--p-code\">custom_qubits=cq</code>, select the QuantumComputer method with <code class=\"markup--code markup--p-code\">method = 'QC'</code>, set parametric and tomography options, and set the number of shots to <code class=\"markup--code markup--p-code\">shotN=10000</code>"
   ]
  },
  {
   "cell_type": "code",
   "execution_count": 13,
   "metadata": {},
   "outputs": [],
   "source": [
    "vqe = VQEexperiment(molecule=molecule, qc=qc, custom_qubits=cq, method = 'QC',\n",
    "                    tomography = True, parametric = True, shotN=100000)"
   ]
  },
  {
   "cell_type": "markdown",
   "metadata": {},
   "source": [
    "If we now run the objective function for the initial angles, which are again taken from CCSD pre-computations, we find"
   ]
  },
  {
   "cell_type": "code",
   "execution_count": 14,
   "metadata": {},
   "outputs": [
    {
     "name": "stdout",
     "output_type": "stream",
     "text": [
      "VQE objective function energy estimation using tomography with 10000 shots: E =  -1.1380582023488928\n",
      "Exact diagonalization of molecular Hamiltonian yields  :                    E =  -1.1372701746609015\n"
     ]
    }
   ],
   "source": [
    "print('VQE objective function energy estimation using tomography with 100000 shots: E = ', vqe.objective_function())\n",
    "exact_gs_E=vqe.get_exact_gs()\n",
    "print('Exact diagonalization of molecular Hamiltonian yields  :                    E = ', exact_gs_E)"
   ]
  },
  {
   "cell_type": "markdown",
   "metadata": {},
   "source": [
    "Please note the finite sampling from the wavefunction using tomography, instead of exact Hamiltonian estimation one can only perform in a simulator not on a QPU.\n",
    "This also poses a bigger challenge to the classical optimizer, as the optimizer function only has access to a stochastic drawing from a distribution instead of always returning exactly the mean upon repeated access. For example gradient estimation is then (much) less accurate and further research needs to be done to find the groundstate effectively.\n",
    "\n",
    "One can also evaluate the objective function for the optimized angles we found before:"
   ]
  },
  {
   "cell_type": "code",
   "execution_count": 12,
   "metadata": {},
   "outputs": [
    {
     "name": "stdout",
     "output_type": "stream",
     "text": [
      "VQE objective function energy estimation using tomography with 10000 shots: E =  -1.136665825246115\n",
      "Exact diagonalization of molecular Hamiltonian yields  :                    E =  -1.1372701746609015\n"
     ]
    }
   ],
   "source": [
    "print('VQE objective function energy estimation using tomography with 100000 shots: E = ', vqe.objective_function(results.x))\n",
    "exact_gs_E=vqe.get_exact_gs()\n",
    "print('Exact diagonalization of molecular Hamiltonian yields  :                    E = ', exact_gs_E)"
   ]
  }
 ],
 "metadata": {
  "kernelspec": {
   "display_name": "Python 3",
   "language": "python",
   "name": "python3"
  },
  "language_info": {
   "codemirror_mode": {
    "name": "ipython",
    "version": 3
   },
   "file_extension": ".py",
   "mimetype": "text/x-python",
   "name": "python",
   "nbconvert_exporter": "python",
   "pygments_lexer": "ipython3",
   "version": "3.7.3"
  }
 },
 "nbformat": 4,
 "nbformat_minor": 1
}
